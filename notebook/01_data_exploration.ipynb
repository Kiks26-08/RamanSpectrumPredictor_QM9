{
 "cells": [
  {
   "cell_type": "markdown",
   "id": "2348e3aa",
   "metadata": {},
   "source": [
    "# 📊 01 - Data Exploration\n",
    "Exploratory analysis of QM9 Raman dataset."
   ]
  },
  {
   "cell_type": "code",
   "execution_count": null,
   "id": "0eb0fd75",
   "metadata": {},
   "outputs": [],
   "source": [
    "import pandas as pd\n",
    "import seaborn as sns\n",
    "import matplotlib.pyplot as plt"
   ]
  },
  {
   "cell_type": "code",
   "execution_count": null,
   "id": "f71466e7",
   "metadata": {},
   "outputs": [],
   "source": [
    "# Load dataset\n",
    "df = pd.read_csv('../data/qm9_raman.csv')\n",
    "df.head()"
   ]
  },
  {
   "cell_type": "code",
   "execution_count": null,
   "id": "d6628328",
   "metadata": {},
   "outputs": [],
   "source": [
    "# Basic statistics\n",
    "df.describe()"
   ]
  },
  {
   "cell_type": "code",
   "execution_count": null,
   "id": "07e17e01",
   "metadata": {},
   "outputs": [],
   "source": [
    "# Correlation heatmap\n",
    "plt.figure(figsize=(8,6))\n",
    "sns.heatmap(df.corr(), annot=True, cmap='coolwarm')\n",
    "plt.title('Feature Correlation Heatmap')\n",
    "plt.show()"
   ]
  },
  {
   "cell_type": "code",
   "execution_count": null,
   "id": "9ede3b55",
   "metadata": {},
   "outputs": [],
   "source": [
    "# Pairplot\n",
    "sns.pairplot(df)\n",
    "plt.show()"
   ]
  },
  {
   "cell_type": "markdown",
   "id": "78b43a69",
   "metadata": {},
   "source": [
    "## 💻 How to Run This Notebook on HPC\n",
    "\n",
    "1. Load or activate your conda environment:\n",
    "\n",
    "```bash\n",
    "module load conda  # if applicable\n",
    "conda activate raman-predictor\n",
    "```\n",
    "\n",
    "2. Launch Jupyter Notebook (or Jupyter Lab):\n",
    "\n",
    "```bash\n",
    "jupyter notebook --no-browser --port=8888\n",
    "```\n",
    "\n",
    "3. From your local machine, open a new terminal and create an SSH tunnel:\n",
    "\n",
    "```bash\n",
    "ssh -N -L 8888:localhost:8888 your_hpc_username@your_hpc_address\n",
    "```\n",
    "\n",
    "4. Paste the generated notebook URL into your local browser.\n",
    "\n",
    "👉 Make sure `notebooks/01_data_exploration.ipynb` exists in your working directory.\n"
   ]
  }
 ],
 "metadata": {},
 "nbformat": 4,
 "nbformat_minor": 5
}
